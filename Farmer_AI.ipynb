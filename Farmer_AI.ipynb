{
 "cells": [
  {
   "cell_type": "code",
   "execution_count": 1,
   "id": "bd9af06a-507f-4627-a32e-abc57f7344a2",
   "metadata": {},
   "outputs": [],
   "source": [
    "import numpy as np\n",
    "from tensorflow.keras.preprocessing import image\n",
    "from tensorflow.keras.preprocessing.image import ImageDataGenerator\n",
    "from tensorflow.keras.models import load_model\n",
    "import os"
   ]
  },
  {
   "cell_type": "code",
   "execution_count": 11,
   "id": "78fdfb00-50b2-4f86-8282-472d1b3c9fe9",
   "metadata": {},
   "outputs": [],
   "source": [
    "img_size = 128\n",
    "batch_size = 32\n",
    "train_path = \"C:/Users/erraj/Downloads/Ai_Farmer_Helper/PlantVillage\"\n",
    "val_path = \"C:/Users/erraj/Downloads/Ai_Farmer_Helper/PlantVillage\""
   ]
  },
  {
   "cell_type": "code",
   "execution_count": 12,
   "id": "9ce0821d-fb3f-48db-8c06-1a8e68a997c2",
   "metadata": {},
   "outputs": [
    {
     "name": "stdout",
     "output_type": "stream",
     "text": [
      "Found 54306 images belonging to 2 classes.\n",
      "Found 54306 images belonging to 2 classes.\n"
     ]
    }
   ],
   "source": [
    "\n",
    "train_gen = ImageDataGenerator(rescale=1./255)\n",
    "val_gen = ImageDataGenerator(rescale=1./255)\n",
    "\n",
    "train_data = train_gen.flow_from_directory(\n",
    "    train_path,\n",
    "    target_size=(img_size, img_size),\n",
    "    batch_size=batch_size,\n",
    "    class_mode='categorical'\n",
    ")\n",
    "\n",
    "val_data = val_gen.flow_from_directory(\n",
    "    val_path,\n",
    "    target_size=(img_size, img_size),\n",
    "    batch_size=batch_size,\n",
    "    class_mode='categorical'\n",
    ")"
   ]
  },
  {
   "cell_type": "code",
   "execution_count": 13,
   "id": "474bffb4-41a5-4e87-af32-8e1d9d818d47",
   "metadata": {},
   "outputs": [],
   "source": [
    "# ✅ Step 4: Class Labels\n",
    "class_labels = list(train_data.class_indices.keys())\n"
   ]
  },
  {
   "cell_type": "code",
   "execution_count": 14,
   "id": "dfd9e63b-6ec6-4764-85f2-f634484386e1",
   "metadata": {},
   "outputs": [
    {
     "name": "stderr",
     "output_type": "stream",
     "text": [
      "WARNING:absl:Compiled the loaded model, but the compiled metrics have yet to be built. `model.compile_metrics` will be empty until you train or evaluate the model.\n"
     ]
    }
   ],
   "source": [
    "# 💾 Step 5: Load trained model\n",
    "model = load_model(\"plant_disease_model.h5\")\n"
   ]
  },
  {
   "cell_type": "code",
   "execution_count": 15,
   "id": "860c49cd-0e49-42a9-af1d-42e70c6b0ed0",
   "metadata": {},
   "outputs": [
    {
     "name": "stdout",
     "output_type": "stream",
     "text": [
      "['train', 'val']\n"
     ]
    }
   ],
   "source": [
    "print(class_labels)\n"
   ]
  },
  {
   "cell_type": "code",
   "execution_count": 16,
   "id": "d1383003-2a87-4036-acc7-ff30d558c737",
   "metadata": {},
   "outputs": [],
   "source": [
    "disease_to_medicine = {\n",
    "    \"Apple___Apple_scab\": \"Use fungicides like captan or mancozeb. (कप्तान या मैनकोजेब जैसे फफूंदनाशकों का छिड़काव करें।)\",\n",
    "    \"Apple___Black_rot\": \"Remove infected fruit and apply fungicide. (संक्रमित फल हटाएं और फफूंदनाशक का प्रयोग करें।)\",\n",
    "    \"Apple___Cedar_apple_rust\": \"Apply sulfur-based fungicide. (सल्फर आधारित फफूंदनाशक का छिड़काव करें।)\",\n",
    "    \"Apple___Healthy\": \"No treatment needed. (कोई इलाज नहीं चाहिए, पौधा स्वस्थ है।)\",\n",
    "\n",
    "    \"Pepper,_bell___Bacterial_spot\": \"Use copper spray or streptomycin. (कॉपर स्प्रे या स्ट्रेप्टोमाइसिन का छिड़काव करें।)\",\n",
    "    \"Pepper,_bell___Healthy\": \"No treatment needed. (कोई इलाज नहीं चाहिए, पौधा स्वस्थ है।)\",\n",
    "\n",
    "    \"Potato___Early_blight\": \"Use chlorothalonil or mancozeb. (क्लोरोथालोनिल या मैनकोजेब का उपयोग करें।)\",\n",
    "    \"Potato___Late_blight\": \"Use fungicides with fluazinam. (फ्लूएजिनाम वाले फफूंदनाशक का प्रयोग करें।)\",\n",
    "    \"Potato___Healthy\": \"No treatment needed. (कोई इलाज नहीं चाहिए, पौधा स्वस्थ है।)\",\n",
    "\n",
    "    \"Tomato___Bacterial_spot\": \"Use copper-based bactericides. (कॉपर आधारित जीवाणुनाशकों का प्रयोग करें।)\",\n",
    "    \"Tomato___Early_blight\": \"Spray with chlorothalonil. (क्लोरोथालोनिल का छिड़काव करें।)\",\n",
    "    \"Tomato___Late_blight\": \"Spray with Metalaxyl or Mancozeb. (मेटालेक्सिल या मैनकोजेब का छिड़काव करें।)\",\n",
    "    \"Tomato___Leaf_Mold\": \"Use copper-based fungicide. (कॉपर आधारित फफूंदनाशक का प्रयोग करें।)\",\n",
    "    \"Tomato___Septoria_leaf_spot\": \"Apply fungicide with chlorothalonil. (क्लोरोथालोनिल वाला फफूंदनाशक लगाएं।)\",\n",
    "    \"Tomato___Spider_mites Two-spotted_spider_mite\": \"Use miticide or neem oil. (माइटीसाइड या नीम के तेल का छिड़काव करें।)\",\n",
    "    \"Tomato___Target_Spot\": \"Use fungicides with azoxystrobin. (एज़ोक्सीस्ट्रोबिन वाला फफूंदनाशक उपयोग करें।)\",\n",
    "    \"Tomato___Tomato_Yellow_Leaf_Curl_Virus\": \"Remove infected plants and control whiteflies. (संक्रमित पौधे हटाएं और सफेद मक्खियों को नियंत्रित करें।)\",\n",
    "    \"Tomato___Tomato_mosaic_virus\": \"Remove infected leaves, disinfect tools. (संक्रमित पत्तियां हटाएं, उपकरणों को कीटाणुरहित करें।)\",\n",
    "    \"Tomato___Healthy\": \"No treatment needed. (कोई इलाज नहीं चाहिए, पौधा स्वस्थ है।)\",\n",
    "\n",
    "    \"Corn_(maize)___Cercospora_leaf_spot Gray_leaf_spot\": \"Use resistant varieties and apply fungicide. (प्रतिरोधी किस्में लगाएं और फफूंदनाशक का प्रयोग करें।)\",\n",
    "    \"Corn_(maize)___Common_rust_\": \"Spray with fungicide at early stages. (शुरुआती अवस्था में फफूंदनाशक का छिड़काव करें।)\",\n",
    "    \"Corn_(maize)___Northern_Leaf_Blight\": \"Use chlorothalonil or mancozeb. (क्लोरोथालोनिल या मैनकोजेब का प्रयोग करें।)\",\n",
    "    \"Corn_(maize)___Healthy\": \"No treatment needed. (कोई इलाज नहीं चाहिए, पौधा स्वस्थ है।)\",\n",
    "}\n",
    "\n"
   ]
  },
  {
   "cell_type": "code",
   "execution_count": 17,
   "id": "8ef6dfaa-8d08-4a0a-8e53-4be267d12880",
   "metadata": {},
   "outputs": [],
   "source": [
    "def predict_disease(image_path):\n",
    "    img = image.load_img(image_path, target_size=(img_size, img_size))\n",
    "    img_array = image.img_to_array(img) / 255.0\n",
    "    img_array = np.expand_dims(img_array, axis=0)\n",
    "\n",
    "    prediction = model.predict(img_array)\n",
    "    class_index = np.argmax(prediction[0])"
   ]
  },
  {
   "cell_type": "code",
   "execution_count": 19,
   "id": "d6d0dc5d-09ee-4c33-acf9-f97aae49ed9e",
   "metadata": {},
   "outputs": [
    {
     "name": "stdout",
     "output_type": "stream",
     "text": [
      "🦠 Disease: Apple___Black_rot\n",
      "💊 Treatment: ब्लाइट नाशक या कॉपर ऑक्सीक्लोराइड का छिड़काव करें\n"
     ]
    }
   ],
   "source": [
    "# 👇 Sample disease name (jaise prediction ke baad milega)\n",
    "disease = \"Apple___Black_rot\"\n",
    "\n",
    "# 👇 Sample mapping (same as your medicine.json)\n",
    "disease_to_medicine = {\n",
    "    \"Apple___Black_rot\": \"ब्लाइट नाशक या कॉपर ऑक्सीक्लोराइड का छिड़काव करें\",\n",
    "    \"Corn___Cercospora_leaf_spot\": \"कार्बेन्डाजिम का छिड़काव करें\",\n",
    "    \"Apple___healthy\": \"कोई दवा आवश्यक नहीं\",\n",
    "    \"Corn___healthy\": \"कोई दवा आवश्यक नहीं\"\n",
    "}\n",
    "\n",
    "# 👇 Get medicine suggestion\n",
    "medicine = disease_to_medicine.get(disease, \"No information available for this disease.\")\n",
    "print(f\"🦠 Disease: {disease}\")\n",
    "print(f\"💊 Treatment: {medicine}\")\n"
   ]
  },
  {
   "cell_type": "code",
   "execution_count": 20,
   "id": "035c2cbc-ead1-46de-9d1c-5dfaaff561d6",
   "metadata": {},
   "outputs": [
    {
     "name": "stdout",
     "output_type": "stream",
     "text": [
      "\u001b[1m1/1\u001b[0m \u001b[32m━━━━━━━━━━━━━━━━━━━━\u001b[0m\u001b[37m\u001b[0m \u001b[1m0s\u001b[0m 170ms/step\n"
     ]
    }
   ],
   "source": [
    "predict_disease(\"C:/Users/erraj/Downloads/Ai_Farmer_Helper/PlantVillage/val/Potato___Early_blight/f5fca019-b28f-4000-9d5e-b0b5fd061304___RS_Early.B 7503.JPG\")"
   ]
  },
  {
   "cell_type": "code",
   "execution_count": 21,
   "id": "324d4509-968f-46ff-98b7-446807745879",
   "metadata": {},
   "outputs": [
    {
     "name": "stderr",
     "output_type": "stream",
     "text": [
      "WARNING:absl:Compiled the loaded model, but the compiled metrics have yet to be built. `model.compile_metrics` will be empty until you train or evaluate the model.\n"
     ]
    },
    {
     "name": "stdout",
     "output_type": "stream",
     "text": [
      "INFO:tensorflow:Assets written to: C:\\Users\\erraj\\AppData\\Local\\Temp\\tmpvmwf58ty\\assets\n"
     ]
    },
    {
     "name": "stderr",
     "output_type": "stream",
     "text": [
      "INFO:tensorflow:Assets written to: C:\\Users\\erraj\\AppData\\Local\\Temp\\tmpvmwf58ty\\assets\n"
     ]
    },
    {
     "name": "stdout",
     "output_type": "stream",
     "text": [
      "Saved artifact at 'C:\\Users\\erraj\\AppData\\Local\\Temp\\tmpvmwf58ty'. The following endpoints are available:\n",
      "\n",
      "* Endpoint 'serve'\n",
      "  args_0 (POSITIONAL_ONLY): TensorSpec(shape=(None, 128, 128, 3), dtype=tf.float32, name='input_layer_1')\n",
      "Output Type:\n",
      "  TensorSpec(shape=(None, 2), dtype=tf.float32, name=None)\n",
      "Captures:\n",
      "  1550535502384: TensorSpec(shape=(), dtype=tf.resource, name=None)\n",
      "  1550535507312: TensorSpec(shape=(), dtype=tf.resource, name=None)\n",
      "  1550548283664: TensorSpec(shape=(), dtype=tf.resource, name=None)\n",
      "  1550548284368: TensorSpec(shape=(), dtype=tf.resource, name=None)\n",
      "  1550548380208: TensorSpec(shape=(), dtype=tf.resource, name=None)\n",
      "  1550548379680: TensorSpec(shape=(), dtype=tf.resource, name=None)\n",
      "  1550548384608: TensorSpec(shape=(), dtype=tf.resource, name=None)\n",
      "  1550548385312: TensorSpec(shape=(), dtype=tf.resource, name=None)\n",
      "✅ TFLite model saved as 'plant_disease_model.tflite'\n"
     ]
    }
   ],
   "source": [
    "import tensorflow as tf\n",
    "\n",
    "# Step 1: Load your existing H5 model\n",
    "model = tf.keras.models.load_model(\"plant_disease_model.h5\")\n",
    "\n",
    "# Step 2: Convert it to TFLite format with size optimization\n",
    "converter = tf.lite.TFLiteConverter.from_keras_model(model)\n",
    "converter.optimizations = [tf.lite.Optimize.DEFAULT]\n",
    "tflite_model = converter.convert()\n",
    "\n",
    "# Step 3: Save the TFLite model\n",
    "with open(\"plant_disease_model.tflite\", \"wb\") as f:\n",
    "    f.write(tflite_model)\n",
    "\n",
    "print(\"✅ TFLite model saved as 'plant_disease_model.tflite'\")"
   ]
  },
  {
   "cell_type": "code",
   "execution_count": null,
   "id": "21fe16ee-f587-4b5f-ade1-7cb6d7974495",
   "metadata": {},
   "outputs": [],
   "source": []
  }
 ],
 "metadata": {
  "kernelspec": {
   "display_name": "Python 3.10 (TensorFlow)",
   "language": "python",
   "name": "python310"
  },
  "language_info": {
   "codemirror_mode": {
    "name": "ipython",
    "version": 3
   },
   "file_extension": ".py",
   "mimetype": "text/x-python",
   "name": "python",
   "nbconvert_exporter": "python",
   "pygments_lexer": "ipython3",
   "version": "3.10.11"
  }
 },
 "nbformat": 4,
 "nbformat_minor": 5
}
